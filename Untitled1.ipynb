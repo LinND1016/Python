{
 "cells": [
  {
   "cell_type": "code",
   "execution_count": 3,
   "metadata": {},
   "outputs": [],
   "source": [
    "import pandas as pd\n",
    "import requests\n",
    "from io import StringIO\n",
    "import time\n",
    "def monthly_report(year, month):\n",
    "    monthly_report(2011,1)\n",
    "    # 假如是西元，轉成民國\n",
    "    if year > 1990:\n",
    "        year -= 1911\n",
    "    \n",
    "    url = 'https://mops.twse.com.tw/nas/t21/sii/t21sc03_'+str(year)+'_'+str(month)+'_0.html'\n",
    "    if year <= 98:\n",
    "        url = 'https://mops.twse.com.tw/nas/t21/sii/t21sc03_'+str(year)+'_'+str(month)+'.html'\n",
    "    \n",
    "    # 偽瀏覽器\n",
    "    headers = {'User-Agent': 'Mozilla/5.0 (Macintosh; Intel Mac OS X 10_10_1) AppleWebKit/537.36 (KHTML, like Gecko) Chrome/39.0.2171.95 Safari/537.36'}\n",
    "    \n",
    "    # 下載該年月的網站，並用pandas轉換成 dataframe\n",
    "    r = requests.get(url, headers=headers)\n",
    "    r.encoding = 'big5'\n",
    "\n",
    "    dfs = pd.read_html(StringIO(r.text), encoding='big-5')\n",
    "\n",
    "    df = pd.concat([df for df in dfs if df.shape[1] <= 11 and df.shape[1] > 5])\n",
    "    \n",
    "    if 'levels' in dir(df.columns):\n",
    "        df.columns = df.columns.get_level_values(1)\n",
    "    else:\n",
    "        df = df[list(range(0,10))]\n",
    "        column_index = df.index[(df[0] == '公司代號')][0]\n",
    "        df.columns = df.iloc[column_index]\n",
    "    \n",
    "    df['當月營收'] = pd.to_numeric(df['當月營收'], 'coerce')\n",
    "    df = df[~df['當月營收'].isnull()]\n",
    "    df = df[df['公司代號'] != '合計']\n",
    "    \n",
    "    # 偽停頓\n",
    "    time.sleep(5)\n",
    "\n",
    "    return df"
   ]
  }
 ],
 "metadata": {
  "kernelspec": {
   "display_name": "Python 3",
   "language": "python",
   "name": "python3"
  },
  "language_info": {
   "codemirror_mode": {
    "name": "ipython",
    "version": 3
   },
   "file_extension": ".py",
   "mimetype": "text/x-python",
   "name": "python",
   "nbconvert_exporter": "python",
   "pygments_lexer": "ipython3",
   "version": "3.7.6"
  }
 },
 "nbformat": 4,
 "nbformat_minor": 4
}
