{
 "cells": [
  {
   "cell_type": "code",
   "execution_count": 5,
   "metadata": {},
   "outputs": [],
   "source": [
    "import requests\n",
    "from bs4 import BeautifulSoup\n",
    "\n",
    "\n",
    "# 下載 Yahoo 首頁內容\n",
    "# r = requests.get('https://tw.yahoo.com/')\n",
    "\n",
    "\n",
    "# Google 搜尋 URL\n",
    "google_url = 'https://www.google.com.tw/search'\n",
    "# 查詢參數\n",
    "my_params = {'q': '寒流'}\n",
    "# 下載 Google 搜尋結果\n",
    "r = requests.get(google_url, params = my_params)\n",
    "\n",
    "\n",
    "# 確認是否下載成功\n",
    "if r.status_code == requests.codes.ok:\n",
    "  # 以 BeautifulSoup 解析 HTML 程式碼\n",
    "  soup = BeautifulSoup(r.text, 'html.parser')\n",
    "\"\"\"\n",
    "  # 以 CSS 的 class 抓出各類頭條新聞\n",
    "  stories = soup.find_all('a', class_='story-title')\n",
    "      for s in stories:\n",
    "    # 新聞標題\n",
    "    print(\"標題：\" + s.text)\n",
    "    # 新聞網址\n",
    "    print(\"網址：\" + s.get('href'))\n",
    " \"\"\" \n",
    "    # 以 CSS 的選擇器來抓取 Google 的搜尋結果\n",
    "items = soup.select('div.g > h3.r > a[href^=\"/url\"]')\n",
    "for i in items:\n",
    "    # 標題\n",
    "    print(\"標題：\" + i.text)\n",
    "    # 網址\n",
    "    print(\"網址：\" + i.get('href'))\n",
    "\n",
    "    "
   ]
  }
 ],
 "metadata": {
  "kernelspec": {
   "display_name": "Python 3",
   "language": "python",
   "name": "python3"
  },
  "language_info": {
   "codemirror_mode": {
    "name": "ipython",
    "version": 3
   },
   "file_extension": ".py",
   "mimetype": "text/x-python",
   "name": "python",
   "nbconvert_exporter": "python",
   "pygments_lexer": "ipython3",
   "version": "3.7.6"
  }
 },
 "nbformat": 4,
 "nbformat_minor": 4
}
